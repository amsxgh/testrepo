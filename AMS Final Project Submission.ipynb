{
  "metadata": {
    "kernelspec": {
      "name": "python",
      "display_name": "Pyolite",
      "language": "python"
    },
    "language_info": {
      "codemirror_mode": {
        "name": "python",
        "version": 3
      },
      "file_extension": ".py",
      "mimetype": "text/x-python",
      "name": "python",
      "nbconvert_exporter": "python",
      "pygments_lexer": "ipython3",
      "version": "3.8"
    }
  },
  "nbformat_minor": 4,
  "nbformat": 4,
  "cells": [
    {
      "cell_type": "markdown",
      "source": "<center>\n    <img src=\"https://cf-courses-data.s3.us.cloud-object-storage.appdomain.cloud/IBMDeveloperSkillsNetwork-DS0105EN-SkillsNetwork/labs/Module2/images/SN_web_lightmode.png\" width=\"300\" alt=\"cognitiveclass.ai logo\">\n</center>\n",
      "metadata": {}
    },
    {
      "cell_type": "markdown",
      "source": "#### Add your code below following the instructions given in the course\n",
      "metadata": {}
    },
    {
      "cell_type": "markdown",
      "source": " # Title: My Final Project Submission",
      "metadata": {}
    },
    {
      "cell_type": "markdown",
      "source": "Introduction: This is a Jupyter notebook conducted on Skills Network Labs for final project submission for Tools of Data Science Course in Coursera",
      "metadata": {}
    },
    {
      "cell_type": "markdown",
      "source": "List of Data Science Language:\n* Python\n* Julia\n* C++\n* R\n* Java\n* Java Script",
      "metadata": {}
    },
    {
      "cell_type": "markdown",
      "source": "List of Data Science Libraries:\n* Pandas\n* NumPy\n* Scikit-Learn\n* Keras\n* PyTorch\n* Matplotlib\n* Seaborn",
      "metadata": {}
    },
    {
      "cell_type": "markdown",
      "source": "Data Science Tools:\n| Data Science Tools |\n|----------|\n| Git |\n| Anaconda |\n| Jupyter Notebook |\n| IBM Watson Studio |\n| RStudio |\n| Apache Spark |",
      "metadata": {}
    },
    {
      "cell_type": "markdown",
      "source": "2 + 3",
      "metadata": {}
    },
    {
      "cell_type": "code",
      "source": "(2*3) + (2+2)",
      "metadata": {
        "trusted": true
      },
      "execution_count": 2,
      "outputs": [
        {
          "execution_count": 2,
          "output_type": "execute_result",
          "data": {
            "text/plain": "10"
          },
          "metadata": {}
        }
      ]
    },
    {
      "cell_type": "code",
      "source": "minutes = 120\nhours = minutes / 60\n\nprint(\"There are\", hours, \"hours in\", minutes, \"minutes.\")",
      "metadata": {
        "trusted": true
      },
      "execution_count": 3,
      "outputs": [
        {
          "name": "stdout",
          "text": "There are 2.0 hours in 120 minutes.\n",
          "output_type": "stream"
        }
      ]
    },
    {
      "cell_type": "markdown",
      "source": "List of Objectives:\n<br>\nExercise 2 - Create a markdown cell with the title of the notebook. (1 pt)\n<br>\nExercise 3 - Create a markdown cell for an introduction. (1 pt)\n<br>\nExercise 4 - Create a markdown cell to list data science languages. (3 pts)\n<br>\nExercise 5 - Create a markdown cell to list data science libraries. (3 pts)\n<br>\nExercise 6 - Create a markdown cell with a table of Data Science tools. (3 pts)\n<br>\nExercise 7 - Create a markdown cell introducing arithmetic expression examples. (1 pt)\n<br>\nExercise 8 - Create a code cell to multiply and add numbers.(2 pts)\n<br>\nExercise 9 - Create a code cell to convert minutes to hours. (2 pts)\n<br>\nExercise 10 -Insert a markdown cell to list Objectives. (3 pts)\n<br>\nExercise 11 - Create a markdown cell to indicate the Author’s name. (2 pts)\n<br>\nExercise 12 - Share your notebook through GitHub (3 pts)\n<br>\nExercise 13 - Take a screenshot of the first page of the notebook. (1 pt)",
      "metadata": {}
    },
    {
      "cell_type": "markdown",
      "source": "**Author: Ak Muhammad Saufi**",
      "metadata": {}
    },
    {
      "cell_type": "code",
      "source": "",
      "metadata": {},
      "execution_count": null,
      "outputs": []
    }
  ]
}